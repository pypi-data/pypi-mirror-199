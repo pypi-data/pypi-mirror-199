{
 "cells": [
  {
   "cell_type": "code",
   "execution_count": 1,
   "metadata": {},
   "outputs": [],
   "source": [
    "from azure.ai.ml.entities import Data\n",
    "from azure.ai.ml.constants import AssetTypes\n",
    "\n",
    "from idpaml.job import AzureMLJob"
   ]
  },
  {
   "cell_type": "code",
   "execution_count": 7,
   "metadata": {},
   "outputs": [
    {
     "name": "stderr",
     "output_type": "stream",
     "text": [
      "Found the config file in: /config.json\n"
     ]
    },
    {
     "data": {
      "text/html": [
       "<table style=\"width:100%\"><tr><th>Experiment</th><th>Name</th><th>Type</th><th>Status</th><th>Details Page</th></tr><tr><td>train_model_credit_default_prediction</td><td>red_tongue_yys2fdk81y</td><td>command</td><td>Starting</td><td><a href=\"https://ml.azure.com/runs/red_tongue_yys2fdk81y?wsid=/subscriptions/b7fbc2be-be14-4cea-9633-40351430064d/resourcegroups/aml-starter-rg-dev/workspaces/dispred-aml&amp;tid=db05faca-c82a-4b9d-b9c5-0f64b6755421\" target=\"_blank\" rel=\"noopener\">Link to Azure Machine Learning studio</a></td></tr></table>"
      ],
      "text/plain": [
       "Command({'parameters': {}, 'init': False, 'type': 'command', 'status': 'Starting', 'log_files': None, 'name': 'red_tongue_yys2fdk81y', 'description': None, 'tags': {}, 'properties': {'_azureml.ComputeTargetType': 'amlctrain', 'ContentSnapshotId': 'a1cd123b-e9a2-4edd-87fb-85dd0966515c'}, 'id': '/subscriptions/b7fbc2be-be14-4cea-9633-40351430064d/resourceGroups/aml-starter-rg-dev/providers/Microsoft.MachineLearningServices/workspaces/dispred-aml/jobs/red_tongue_yys2fdk81y', 'Resource__source_path': None, 'base_path': '/mnt/batch/tasks/shared/LS_root/mounts/clusters/cpaulis2-ci/code/Users/cpaulis2/idp-aml/examples/v2', 'creation_context': <azure.ai.ml.entities._system_data.SystemData object at 0x7f24f2edfe50>, 'serialize': <msrest.serialization.Serializer object at 0x7f24f2edff70>, 'allowed_keys': {}, 'key_restriction': False, 'logger': <Logger attr_dict (ERROR)>, 'display_name': 'credit_default_prediction', 'experiment_name': 'train_model_credit_default_prediction', 'compute': 'dualnode1-cc', 'services': {'Tracking': <azure.ai.ml.entities._job.job_service.JobService object at 0x7f24f2edfac0>, 'Studio': <azure.ai.ml.entities._job.job_service.JobService object at 0x7f24f2edf3a0>}, 'comment': None, 'job_inputs': {'test_train_ratio': '0.2', 'learning_rate': '0.25', 'registered_model_name': 'test_model', 'data': {'type': 'uri_file', 'path': 'https://azuremlexamples.blob.core.windows.net/datasets/credit_card/default%20of%20credit%20card%20clients.csv', 'mode': 'ro_mount'}}, 'job_outputs': {'default': {'type': 'uri_folder', 'path': 'azureml://datastores/workspaceartifactstore/ExperimentRun/dcid.red_tongue_yys2fdk81y', 'mode': 'rw_mount'}}, 'inputs': {'test_train_ratio': <azure.ai.ml.entities._job.pipeline._io.base.NodeInput object at 0x7f24f2edfd00>, 'learning_rate': <azure.ai.ml.entities._job.pipeline._io.base.NodeInput object at 0x7f24f2edf190>, 'registered_model_name': <azure.ai.ml.entities._job.pipeline._io.base.NodeInput object at 0x7f24f2edf3d0>, 'data': <azure.ai.ml.entities._job.pipeline._io.base.NodeInput object at 0x7f24f2edec20>}, 'outputs': {'default': <azure.ai.ml.entities._job.pipeline._io.base.NodeOutput object at 0x7f24f2edef50>}, 'component': CommandComponent({'auto_increment_version': True, 'source': 'REMOTE.WORKSPACE.JOB', 'is_anonymous': False, 'name': 'red_tongue_yys2fdk81y', 'description': None, 'tags': {}, 'properties': {}, 'id': None, 'Resource__source_path': None, 'base_path': PosixPath('.'), 'creation_context': <azure.ai.ml.entities._system_data.SystemData object at 0x7f24f2edfe50>, 'serialize': <msrest.serialization.Serializer object at 0x7f24f2edfe20>, 'command': 'python main.py --data ${{inputs.data}} --test_train_ratio ${{inputs.test_train_ratio}} --learning_rate ${{inputs.learning_rate}} --registered_model_name ${{inputs.registered_model_name}}', 'code': '/subscriptions/b7fbc2be-be14-4cea-9633-40351430064d/resourceGroups/aml-starter-rg-dev/providers/Microsoft.MachineLearningServices/workspaces/dispred-aml/codes/2039e7b7-d7f7-4d9f-a885-e949d2419f78/versions/1', 'environment_variables': {}, 'environment': '/subscriptions/b7fbc2be-be14-4cea-9633-40351430064d/resourceGroups/aml-starter-rg-dev/providers/Microsoft.MachineLearningServices/workspaces/dispred-aml/environments/ubuntu-conda-cpu/versions/8', 'distribution': None, 'resources': None, 'version': None, 'latest_version': None, 'schema': None, 'type': 'command', 'display_name': 'credit_default_prediction', 'is_deterministic': True, 'inputs': {'test_train_ratio': {'type': 'string', 'default': '0.2'}, 'learning_rate': {'type': 'string', 'default': '0.25'}, 'registered_model_name': {'type': 'string', 'default': 'test_model'}, 'data': {'type': 'uri_file', 'path': 'https://azuremlexamples.blob.core.windows.net/datasets/credit_card/default%20of%20credit%20card%20clients.csv', 'mode': 'ro_mount'}}, 'outputs': {'default': {'type': 'uri_folder', 'path': 'azureml://datastores/workspaceartifactstore/ExperimentRun/dcid.red_tongue_yys2fdk81y', 'mode': 'rw_mount'}}, 'yaml_str': None, 'other_parameter': {'status': 'Starting', 'parameters': {}}}), 'referenced_control_flow_node_instance_id': None, 'kwargs': {'services': {'Tracking': <azure.ai.ml.entities._job.job_service.JobService object at 0x7f24f2edfac0>, 'Studio': <azure.ai.ml.entities._job.job_service.JobService object at 0x7f24f2edf3a0>}, 'status': 'Starting', 'creation_context': <azure.ai.ml.entities._system_data.SystemData object at 0x7f24f2edfe50>}, 'instance_id': 'fbd65617-8a13-468d-850b-1449eebb10b3', 'source': 'BUILDER', 'validate_required_input_not_provided': True, 'limits': None, 'identity': None, 'distribution': None, 'environment_variables': {}, 'environment': 'ubuntu-conda-cpu:8', 'resources': {'instance_count': 1, 'shm_size': '2g'}, 'swept': False})"
      ]
     },
     "execution_count": 7,
     "metadata": {},
     "output_type": "execute_result"
    }
   ],
   "source": [
    "job1 = AzureMLJob(\n",
    "    input_data=\"https://azuremlexamples.blob.core.windows.net/datasets/credit_card/default%20of%20credit%20card%20clients.csv\",\n",
    "    input_configuration=dict(\n",
    "        test_train_ratio=0.2, \n",
    "        learning_rate=0.25, \n",
    "        registered_model_name=\"test_model\"\n",
    "    ),\n",
    "    code_directory=\"cpaulis2-ci/code/Models/test/src/\",\n",
    "    cli_command=\"python main.py --data ${{inputs.data}} --test_train_ratio ${{inputs.test_train_ratio}} --learning_rate ${{inputs.learning_rate}} --registered_model_name ${{inputs.registered_model_name}}\",\n",
    "    environment=\"ubuntu-conda-cpu@latest\",\n",
    "    compute_cluster=\"dualnode1-cc\",\n",
    "    experiment=\"train_model_credit_default_prediction\",\n",
    "    job=\"credit_default_prediction\"\n",
    ")\n",
    "job1.run()"
   ]
  },
  {
   "cell_type": "code",
   "execution_count": 4,
   "metadata": {},
   "outputs": [
    {
     "data": {
      "text/plain": [
       "'--one ${{inputs.one}} --two ${{inputs.two}}'"
      ]
     },
     "execution_count": 4,
     "metadata": {},
     "output_type": "execute_result"
    }
   ],
   "source": [
    "configs = {\"one\":\"aaa\", \"two\":\"ggg\"}\n",
    "cmd = \" \".join([f\"--{k} ${{inputs.{k}}}\" for k in configs.keys()])\n",
    "cmd.replace(\"{\", \"{{\").replace(\"}\", \"}}\")"
   ]
  },
  {
   "cell_type": "code",
   "execution_count": null,
   "metadata": {},
   "outputs": [],
   "source": []
  }
 ],
 "metadata": {
  "kernelspec": {
   "display_name": "Python 3.10.9 ('azureml_py310_sdkv2')",
   "language": "python",
   "name": "python3"
  },
  "language_info": {
   "codemirror_mode": {
    "name": "ipython",
    "version": 3
   },
   "file_extension": ".py",
   "mimetype": "text/x-python",
   "name": "python",
   "nbconvert_exporter": "python",
   "pygments_lexer": "ipython3",
   "version": "3.10.9"
  },
  "orig_nbformat": 4,
  "vscode": {
   "interpreter": {
    "hash": "2139c70ac98f3202d028164a545621647e07f47fd6f5d8ac55cf952bf7c15ed1"
   }
  }
 },
 "nbformat": 4,
 "nbformat_minor": 2
}
