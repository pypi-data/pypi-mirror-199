{
  "cells": [
    {
      "cell_type": "code",
      "execution_count": 1,
      "metadata": {
        "gather": {
          "logged": 1674684853086
        }
      },
      "outputs": [
        {
          "name": "stderr",
          "output_type": "stream",
          "text": [
            "Found the config file in: /config.json\n"
          ]
        }
      ],
      "source": [
        "from azure.ai.ml.entities import Data\n",
        "from azure.ai.ml.constants import AssetTypes\n",
        "\n",
        "# my_path must point to folder containing MLTable artifact (MLTable file + data\n",
        "# Supported paths include:\n",
        "# local: './<path>'\n",
        "# blob:  'https://<account_name>.blob.core.windows.net/<container_name>/<path>'\n",
        "# ADLS gen2: 'abfss://<file_system>@<account_name>.dfs.core.windows.net/<path>/'\n",
        "# Datastore: 'azureml://datastores/<data_store_name>/paths/<path>'\n",
        "\n",
        "import sys\n",
        "sys.path.append(\"/home/azureuser/cloudfiles/code/Users/cpaulis2/idp-aml/v2\")\n",
        "from data import AzureMLDataAsset\n",
        "from _initialization import client\n",
        "logger, ml_client = client(logging_disabled=True)\n",
        "\n",
        "subscription_id = 'b7fbc2be-be14-4cea-9633-40351430064d'\n",
        "resource_group = 'aml-starter-rg-dev'\n",
        "workspace_name = 'dispred-aml'"
      ]
    },
    {
      "cell_type": "code",
      "execution_count": 2,
      "metadata": {},
      "outputs": [
        {
          "name": "stderr",
          "output_type": "stream",
          "text": [
            "Found the config file in: /config.json\n"
          ]
        },
        {
          "data": {
            "text/plain": [
              "AzureMLDataAsset({'ml_client': MLClient(credential=<azure.identity._credentials.default.DefaultAzureCredential object at 0x7ff219fb9000>,\n",
              "         subscription_id=b7fbc2be-be14-4cea-9633-40351430064d,\n",
              "         resource_group_name=aml-starter-rg-dev,\n",
              "         workspace_name=dispred-aml), 'skip_validation': False, 'mltable_schema_url': None, 'referenced_uris': None, 'type': 'uri_file', 'name': 'sicklecell_stg', 'is_anonymous': False, 'auto_increment_version': True, 'description': 'Sickle cell stage environment patient data.', 'tags': {}, 'properties': {}, 'id': None, 'Resource__source_path': None, 'base_path': '/mnt/batch/tasks/shared/LS_root/mounts/clusters/cpaulis2-ci/code/Users/cpaulis2/idp-aml/examples/v2', 'creation_context': None, 'serialize': <msrest.serialization.Serializer object at 0x7ff218619480>, 'version': None, 'latest_version': '9', 'path': 'azureml://datastores/devmladls/paths/gold/sicklecell/sicklecell_stg/sicklecell_stg.csv', 'datastore': None})"
            ]
          },
          "execution_count": 2,
          "metadata": {},
          "output_type": "execute_result"
        }
      ],
      "source": [
        "my_path = 'azureml://datastores/devmladls/paths/gold/sicklecell/sicklecell_stg/sicklecell_stg.csv'\n",
        "\n",
        "\n",
        "my_asset = AzureMLDataAsset(\n",
        "    path=my_path,\n",
        "    type=AssetTypes.URI_FILE, \n",
        "    description=\"Sickle cell stage environment patient data.\"\n",
        ")\n",
        "my_asset.update_to_new_version()\n",
        "\n",
        "# my_data = Data(\n",
        "#     path=my_path,\n",
        "#     type=AssetTypes.URI_FILE,\n",
        "#     description=\"Sickle cell stage environment patient data.\",\n",
        "#     name=my_path.split(\"/\")[-1].split(\".\")[0],\n",
        "# )\n",
        "\n",
        "# ml_client.data.create_or_update(my_data)"
      ]
    },
    {
      "cell_type": "code",
      "execution_count": 36,
      "metadata": {},
      "outputs": [
        {
          "data": {
            "text/plain": [
              "Data({'skip_validation': False, 'mltable_schema_url': None, 'referenced_uris': None, 'type': 'uri_file', 'is_anonymous': False, 'auto_increment_version': False, 'name': 'sicklecell_stg', 'description': 'Sickle cell stage environment patient data.', 'tags': {}, 'properties': {}, 'id': '/subscriptions/b7fbc2be-be14-4cea-9633-40351430064d/resourceGroups/aml-starter-rg-dev/providers/Microsoft.MachineLearningServices/workspaces/dispred-aml/data/sicklecell_stg/versions/4', 'Resource__source_path': None, 'base_path': '/mnt/batch/tasks/shared/LS_root/mounts/clusters/cpaulis2-ci/code/Users/cpaulis2/idp-aml/examples/v2', 'creation_context': <azure.ai.ml.entities._system_data.SystemData object at 0x7f6e3f7ba350>, 'serialize': <msrest.serialization.Serializer object at 0x7f6e3f7bada0>, 'version': '4', 'latest_version': None, 'path': 'azureml://subscriptions/b7fbc2be-be14-4cea-9633-40351430064d/resourcegroups/aml-starter-rg-dev/workspaces/dispred-aml/datastores/devmladls/paths/gold/sicklecell/sicklecell_stg/sicklecell_stg.csv', 'datastore': None})"
            ]
          },
          "execution_count": 36,
          "metadata": {},
          "output_type": "execute_result"
        }
      ],
      "source": [
        "sc_data = ml_client.data.get(name=\"sicklecell_stg\", version=4)\n",
        "sc_data"
      ]
    },
    {
      "cell_type": "code",
      "execution_count": 31,
      "metadata": {},
      "outputs": [
        {
          "data": {
            "text/html": [
              "<div>\n",
              "<style scoped>\n",
              "    .dataframe tbody tr th:only-of-type {\n",
              "        vertical-align: middle;\n",
              "    }\n",
              "\n",
              "    .dataframe tbody tr th {\n",
              "        vertical-align: top;\n",
              "    }\n",
              "\n",
              "    .dataframe thead th {\n",
              "        text-align: right;\n",
              "    }\n",
              "</style>\n",
              "<table border=\"1\" class=\"dataframe\">\n",
              "  <thead>\n",
              "    <tr style=\"text-align: right;\">\n",
              "      <th></th>\n",
              "      <th>MBR_PTY_ID</th>\n",
              "      <th>CODE_FULL</th>\n",
              "      <th>VISITS</th>\n",
              "      <th>CODE_FULL_LEN</th>\n",
              "      <th>VISITS_LEN</th>\n",
              "    </tr>\n",
              "  </thead>\n",
              "  <tbody>\n",
              "    <tr>\n",
              "      <th>0</th>\n",
              "      <td>11610038180</td>\n",
              "      <td>[[px_93010], [px_C45NYS, px_71020], [px_93010]...</td>\n",
              "      <td>[-56, -48, -43, -26, -23, -6, -2, 0, 2, 6, 7, ...</td>\n",
              "      <td>43</td>\n",
              "      <td>43</td>\n",
              "    </tr>\n",
              "    <tr>\n",
              "      <th>1</th>\n",
              "      <td>116100416170</td>\n",
              "      <td>[[px_99214, px_OIM], [px_99285], [px_OIM, px_9...</td>\n",
              "      <td>[-826, -808, -777, -769, -767, -766, -763, -75...</td>\n",
              "      <td>44</td>\n",
              "      <td>44</td>\n",
              "    </tr>\n",
              "    <tr>\n",
              "      <th>2</th>\n",
              "      <td>116101915415</td>\n",
              "      <td>[[px_RX, dx_Z719, dx_R990002, dx_Z5181, dx_D57...</td>\n",
              "      <td>[0, 24, 28, 34, 63, 65, 66, 98, 99, 105, 119, ...</td>\n",
              "      <td>36</td>\n",
              "      <td>36</td>\n",
              "    </tr>\n",
              "  </tbody>\n",
              "</table>\n",
              "</div>"
            ],
            "text/plain": [
              "     MBR_PTY_ID                                          CODE_FULL  \\\n",
              "0   11610038180  [[px_93010], [px_C45NYS, px_71020], [px_93010]...   \n",
              "1  116100416170  [[px_99214, px_OIM], [px_99285], [px_OIM, px_9...   \n",
              "2  116101915415  [[px_RX, dx_Z719, dx_R990002, dx_Z5181, dx_D57...   \n",
              "\n",
              "                                              VISITS  CODE_FULL_LEN  \\\n",
              "0  [-56, -48, -43, -26, -23, -6, -2, 0, 2, 6, 7, ...             43   \n",
              "1  [-826, -808, -777, -769, -767, -766, -763, -75...             44   \n",
              "2  [0, 24, 28, 34, 63, 65, 66, 98, 99, 105, 119, ...             36   \n",
              "\n",
              "   VISITS_LEN  \n",
              "0          43  \n",
              "1          44  \n",
              "2          36  "
            ]
          },
          "execution_count": 31,
          "metadata": {},
          "output_type": "execute_result"
        }
      ],
      "source": [
        "from azureml.core import Dataset\n",
        "dataset = Dataset.Tabular.from_delimited_files(path = 'https://amldevsastage.blob.core.windows.net/devmladls/gold/sicklecell/sicklecell_stg/sicklecell_stg.csv')\n",
        "\n",
        "\n",
        "# preview the first 3 rows of the dataset\n",
        "dataset.take(3).to_pandas_dataframe()"
      ]
    },
    {
      "cell_type": "code",
      "execution_count": 18,
      "metadata": {},
      "outputs": [
        {
          "data": {
            "text/plain": [
              "'azureml://subscriptions/b7fbc2be-be14-4cea-9633-40351430064d/resourcegroups/aml-starter-rg-dev/workspaces/dispred-aml/datastores/devmladls/paths/gold/sicklecell/sicklecell_stg/sicklecell_stg.csv'"
            ]
          },
          "execution_count": 18,
          "metadata": {},
          "output_type": "execute_result"
        }
      ],
      "source": []
    },
    {
      "cell_type": "code",
      "execution_count": 17,
      "metadata": {},
      "outputs": [
        {
          "data": {
            "text/plain": [
              "{\n",
              "  \"source\": [\n",
              "    \"https://amldevsastage.blob.core.windows.net/devmladls/gold/sicklecell/sicklecell_stg/sicklecell_stg.csv\"\n",
              "  ],\n",
              "  \"definition\": [\n",
              "    \"GetFiles\",\n",
              "    \"ParseDelimited\",\n",
              "    \"DropColumns\",\n",
              "    \"SetColumnTypes\"\n",
              "  ]\n",
              "}"
            ]
          },
          "execution_count": 17,
          "metadata": {},
          "output_type": "execute_result"
        }
      ],
      "source": [
        "dataset."
      ]
    }
  ],
  "metadata": {
    "kernel_info": {
      "name": "python38-azureml"
    },
    "kernelspec": {
      "display_name": "Python 3.10.6 ('azureml_py310_sdkv2')",
      "language": "python",
      "name": "python3"
    },
    "language_info": {
      "codemirror_mode": {
        "name": "ipython",
        "version": 3
      },
      "file_extension": ".py",
      "mimetype": "text/x-python",
      "name": "python",
      "nbconvert_exporter": "python",
      "pygments_lexer": "ipython3",
      "version": "3.10.6"
    },
    "nteract": {
      "version": "nteract-front-end@1.0.0"
    },
    "vscode": {
      "interpreter": {
        "hash": "2139c70ac98f3202d028164a545621647e07f47fd6f5d8ac55cf952bf7c15ed1"
      }
    }
  },
  "nbformat": 4,
  "nbformat_minor": 2
}
