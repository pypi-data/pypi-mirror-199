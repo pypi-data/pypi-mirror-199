{
 "cells": [
  {
   "cell_type": "markdown",
   "metadata": {},
   "source": [
    "#  Bland-Altman plots\n",
    "\n",
    "> "
   ]
  },
  {
   "cell_type": "code",
   "execution_count": null,
   "metadata": {},
   "outputs": [],
   "source": [
    "#| default_exp blandaltman_plots"
   ]
  },
  {
   "cell_type": "code",
   "execution_count": null,
   "metadata": {},
   "outputs": [],
   "source": [
    "#| hide\n",
    "from nbdev.showdoc import *"
   ]
  },
  {
   "cell_type": "code",
   "execution_count": null,
   "metadata": {},
   "outputs": [
    {
     "ename": "ModuleNotFoundError",
     "evalue": "No module named 'pheno_utils'",
     "output_type": "error",
     "traceback": [
      "\u001b[0;31m---------------------------------------------------------------------------\u001b[0m",
      "\u001b[0;31mModuleNotFoundError\u001b[0m                       Traceback (most recent call last)",
      "\u001b[0;32m/tmp/ipykernel_40513/1655645540.py\u001b[0m in \u001b[0;36m<cell line: 2>\u001b[0;34m()\u001b[0m\n\u001b[1;32m      1\u001b[0m \u001b[0;31m#| export\u001b[0m\u001b[0;34m\u001b[0m\u001b[0;34m\u001b[0m\u001b[0m\n\u001b[0;32m----> 2\u001b[0;31m \u001b[0;32mfrom\u001b[0m \u001b[0mpheno_utils\u001b[0m\u001b[0;34m.\u001b[0m\u001b[0mconfig\u001b[0m \u001b[0;32mimport\u001b[0m \u001b[0;34m*\u001b[0m\u001b[0;34m\u001b[0m\u001b[0;34m\u001b[0m\u001b[0m\n\u001b[0m\u001b[1;32m      3\u001b[0m \u001b[0;34m\u001b[0m\u001b[0m\n\u001b[1;32m      4\u001b[0m \u001b[0;32mimport\u001b[0m \u001b[0mnumpy\u001b[0m \u001b[0;32mas\u001b[0m \u001b[0mnp\u001b[0m\u001b[0;34m\u001b[0m\u001b[0;34m\u001b[0m\u001b[0m\n\u001b[1;32m      5\u001b[0m \u001b[0;32mimport\u001b[0m \u001b[0mpandas\u001b[0m \u001b[0;32mas\u001b[0m \u001b[0mpd\u001b[0m\u001b[0;34m\u001b[0m\u001b[0;34m\u001b[0m\u001b[0m\n",
      "\u001b[0;31mModuleNotFoundError\u001b[0m: No module named 'pheno_utils'"
     ]
    }
   ],
   "source": [
    "#| export\n",
    "from pheno_utils.config import *\n",
    "\n",
    "import numpy as np\n",
    "import pandas as pd\n",
    "import matplotlib.pyplot as plt\n",
    "import seaborn as sns\n",
    "from scipy.stats import pearsonr\n",
    "from typing import Tuple\n",
    "import importlib"
   ]
  },
  {
   "cell_type": "code",
   "execution_count": null,
   "metadata": {},
   "outputs": [],
   "source": [
    "#| export\n",
    "try:\n",
    "    importlib.import_module(\"pyCompare\")\n",
    "except ImportError:\n",
    "    raise ImportError(\"The 'pyCompare' library is not installed. Please install it using 'pip install pyCompare' before running this script.\")\n",
    "\n",
    "from pyCompare import blandAltman"
   ]
  },
  {
   "cell_type": "code",
   "execution_count": null,
   "metadata": {},
   "outputs": [],
   "source": [
    "#| export\n",
    "\n",
    "def bland_altman_triple_plot(\n",
    "    data: pd.DataFrame, m1_col: str, m2_col: str, feature_str: str = \"\"\n",
    ") -> None:\n",
    "    \"\"\"\n",
    "    Generates a triple plot consisting of a scatter correlation plot, Bland-Altman plot, and a percentage Bland-Altman plot.\n",
    "\n",
    "    Args:\n",
    "        data (pd.DataFrame): A pandas DataFrame containing the data.\n",
    "        m1_col (str): The name of the first measurement column in the DataFrame.\n",
    "        m2_col (str): The name of the second measurement column in the DataFrame.\n",
    "        feature_str (str, optional): A string to include in the title of the plots. Defaults to \"\".\n",
    "\n",
    "    Returns:\n",
    "        None\n",
    "    \"\"\"\n",
    "\n",
    "    m1 = data.dropna(subset=[m1_col, m2_col])[m1_col] \n",
    "    m2 = data.dropna(subset=[m1_col, m2_col])[m2_col]\n",
    "    min_val = np.min([np.min(m1), np.min(m2)])\n",
    "    max_val = np.min([np.max(m1), np.max(m2)])\n",
    "\n",
    "    fig, axes = plt.subplots(1, 3, figsize=(18, 5))\n",
    "    fig.suptitle(f\"{feature_str} - Bland-Altman plots\", fontsize=16)\n",
    "\n",
    "    ax = axes[0]\n",
    "    sns.regplot(x=m1, y=m2, ax=ax, scatter_kws=dict(alpha=0.3))\n",
    "    ax.plot(\n",
    "        [min_val * 0.99, max_val * 1.01],\n",
    "        [min_val * 0.99, max_val * 1.01],\n",
    "        ls=\":\",\n",
    "        color=\"grey\",\n",
    "    )\n",
    "    ax.set_xlim(min_val * 0.99, max_val * 1.01)\n",
    "    ax.set_ylim(min_val * 0.99, max_val * 1.01)\n",
    "    ax.spines[\"right\"].set_visible(False)\n",
    "    ax.spines[\"top\"].set_visible(False)\n",
    "    r = np.round(pearsonr(data.dropna(subset=[m1_col,m2_col])[m1_col], data.dropna(subset=[m1_col,m2_col])[m2_col])[0], 3)\n",
    "    ax.set_title(f\"r={r}\")\n",
    "\n",
    "    ax = axes[1]\n",
    "    blandAltman(m1, m2, ax=ax)\n",
    "    ax.set_xlabel(f\"Mean of {m1.name} and {m2.name}\")\n",
    "    ax.set_ylabel(f\"{m1.name} - {m2.name}\")\n",
    "\n",
    "    ax = axes[2]\n",
    "    blandAltman(m1, m2, ax=ax, percentage=True)\n",
    "    ax.set_xlabel(f\"Mean of {m1.name} and {m2.name}\")\n",
    "    ax.set_ylabel(f\"Percentage ({m1.name} - {m2.name})\")\n"
   ]
  },
  {
   "cell_type": "code",
   "execution_count": null,
   "metadata": {},
   "outputs": [],
   "source": [
    "data = generate_synthetic_data(n=1000)\n",
    "\n",
    "bland_altman_triple_plot(data=data, m1_col=\"val1\",m2_col=\"val2\")"
   ]
  },
  {
   "cell_type": "code",
   "execution_count": null,
   "metadata": {},
   "outputs": [],
   "source": [
    "#| hide\n",
    "import nbdev; nbdev.nbdev_export()"
   ]
  }
 ],
 "metadata": {
  "kernelspec": {
   "display_name": "python3",
   "language": "python",
   "name": "python3"
  }
 },
 "nbformat": 4,
 "nbformat_minor": 4
}
