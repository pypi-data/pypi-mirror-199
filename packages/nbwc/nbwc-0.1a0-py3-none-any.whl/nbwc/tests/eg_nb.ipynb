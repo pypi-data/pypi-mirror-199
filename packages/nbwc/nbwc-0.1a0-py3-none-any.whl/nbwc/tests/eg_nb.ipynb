{
 "cells": [
  {
   "cell_type": "markdown",
   "id": "546d0bbd",
   "metadata": {},
   "source": [
    "# A heading"
   ]
  },
  {
   "cell_type": "markdown",
   "id": "6edf3375",
   "metadata": {},
   "source": [
    "Some text - the text contains punctuation; nevertheless, we get the correct count!\n",
    "\n",
    "Another line."
   ]
  },
  {
   "cell_type": "code",
   "execution_count": 1,
   "id": "be0b23b4",
   "metadata": {},
   "outputs": [
    {
     "name": "stdout",
     "output_type": "stream",
     "text": [
      "These words also do not contribute to the count\n"
     ]
    }
   ],
   "source": [
    "# This is a long comment.  Comments do not count towards count.\n",
    "print(\"These words also do not contribute to the count\")"
   ]
  },
  {
   "cell_type": "markdown",
   "id": "b20b3600",
   "metadata": {},
   "source": [
    "More text.\n",
    "\n",
    "And again."
   ]
  },
  {
   "cell_type": "code",
   "execution_count": 2,
   "id": "e5556a49",
   "metadata": {},
   "outputs": [
    {
     "name": "stdout",
     "output_type": "stream",
     "text": [
      "More words in a print statement\n"
     ]
    }
   ],
   "source": [
    "# More comment words\n",
    "print('More words in a print statement')"
   ]
  },
  {
   "cell_type": "raw",
   "id": "009dd856",
   "metadata": {},
   "source": [
    "A raw text cell.  This also does not count to the count, at least, by default."
   ]
  },
  {
   "cell_type": "markdown",
   "id": "145e6bd3",
   "metadata": {},
   "source": [
    "A final text cell."
   ]
  },
  {
   "cell_type": "code",
   "execution_count": 3,
   "id": "91dfc1f2",
   "metadata": {},
   "outputs": [],
   "source": [
    "# A final code cell."
   ]
  }
 ],
 "metadata": {
  "jupytext": {
   "notebook_metadata_filter": "all,-language_info",
   "split_at_heading": true
  },
  "kernelspec": {
   "display_name": "Python 3 (ipykernel)",
   "language": "python",
   "name": "python3"
  },
  "language_info": {
   "codemirror_mode": {
    "name": "ipython",
    "version": 3
   },
   "file_extension": ".py",
   "mimetype": "text/x-python",
   "name": "python",
   "nbconvert_exporter": "python",
   "pygments_lexer": "ipython3",
   "version": "3.10.10"
  }
 },
 "nbformat": 4,
 "nbformat_minor": 5
}
