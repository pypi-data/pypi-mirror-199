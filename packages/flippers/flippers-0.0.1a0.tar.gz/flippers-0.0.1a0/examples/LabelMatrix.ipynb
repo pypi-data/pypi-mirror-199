{
 "cells": [
  {
   "cell_type": "code",
   "execution_count": 1,
   "id": "0cb87e60-4168-4be3-a4aa-1969e0b52579",
   "metadata": {
    "tags": []
   },
   "outputs": [],
   "source": [
    "%load_ext autoreload\n",
    "%autoreload 2"
   ]
  },
  {
   "cell_type": "code",
   "execution_count": 2,
   "id": "63827672-c00c-418e-b3dc-f38241b8341a",
   "metadata": {
    "tags": []
   },
   "outputs": [],
   "source": [
    "import os\n",
    "import sys\n",
    "\n",
    "os.chdir(\"..\")"
   ]
  },
  {
   "cell_type": "code",
   "execution_count": 3,
   "id": "b61d3bbd-13fe-408d-b97e-1354098988a8",
   "metadata": {
    "tags": []
   },
   "outputs": [],
   "source": [
    "import pandas as pd"
   ]
  },
  {
   "cell_type": "code",
   "execution_count": 4,
   "id": "2a2111e2-702a-40f0-94b3-1b82bfee81c9",
   "metadata": {
    "tags": []
   },
   "outputs": [],
   "source": [
    "import numpy as np"
   ]
  },
  {
   "cell_type": "code",
   "execution_count": 5,
   "id": "c11bc9d9-1745-41bd-8850-527e9bf67939",
   "metadata": {
    "tags": []
   },
   "outputs": [],
   "source": [
    "def get_L(n=100, n_weak=20):\n",
    "    L = np.round(0.25 * np.random.rand(n, n_weak), 2)\n",
    "    L[:, :5] = 4 * L[:, :5]\n",
    "    L[0] = 0\n",
    "    L = pd.DataFrame(L, columns=[f\"lf_{i}\" for i in range(n_weak)])\n",
    "    return L"
   ]
  },
  {
   "cell_type": "code",
   "execution_count": 6,
   "id": "92dff723-fea9-45a3-bca6-c913485acd9d",
   "metadata": {
    "tags": []
   },
   "outputs": [
    {
     "data": {
      "text/html": [
       "<div>\n",
       "<style scoped>\n",
       "    .dataframe tbody tr th:only-of-type {\n",
       "        vertical-align: middle;\n",
       "    }\n",
       "\n",
       "    .dataframe tbody tr th {\n",
       "        vertical-align: top;\n",
       "    }\n",
       "\n",
       "    .dataframe thead th {\n",
       "        text-align: right;\n",
       "    }\n",
       "</style>\n",
       "<table border=\"1\" class=\"dataframe\">\n",
       "  <thead>\n",
       "    <tr style=\"text-align: right;\">\n",
       "      <th></th>\n",
       "      <th>lf_0</th>\n",
       "      <th>lf_1</th>\n",
       "      <th>lf_2</th>\n",
       "      <th>lf_3</th>\n",
       "      <th>lf_4</th>\n",
       "      <th>lf_5</th>\n",
       "      <th>lf_6</th>\n",
       "      <th>lf_7</th>\n",
       "      <th>lf_8</th>\n",
       "      <th>lf_9</th>\n",
       "      <th>lf_10</th>\n",
       "      <th>lf_11</th>\n",
       "      <th>lf_12</th>\n",
       "      <th>lf_13</th>\n",
       "      <th>lf_14</th>\n",
       "      <th>lf_15</th>\n",
       "      <th>lf_16</th>\n",
       "      <th>lf_17</th>\n",
       "      <th>lf_18</th>\n",
       "      <th>lf_19</th>\n",
       "    </tr>\n",
       "  </thead>\n",
       "  <tbody>\n",
       "    <tr>\n",
       "      <th>0</th>\n",
       "      <td>0.00</td>\n",
       "      <td>0.00</td>\n",
       "      <td>0.00</td>\n",
       "      <td>0.00</td>\n",
       "      <td>0.00</td>\n",
       "      <td>0.00</td>\n",
       "      <td>0.00</td>\n",
       "      <td>0.00</td>\n",
       "      <td>0.00</td>\n",
       "      <td>0.00</td>\n",
       "      <td>0.00</td>\n",
       "      <td>0.00</td>\n",
       "      <td>0.00</td>\n",
       "      <td>0.00</td>\n",
       "      <td>0.00</td>\n",
       "      <td>0.00</td>\n",
       "      <td>0.00</td>\n",
       "      <td>0.00</td>\n",
       "      <td>0.00</td>\n",
       "      <td>0.00</td>\n",
       "    </tr>\n",
       "    <tr>\n",
       "      <th>1</th>\n",
       "      <td>1.00</td>\n",
       "      <td>0.88</td>\n",
       "      <td>1.00</td>\n",
       "      <td>0.28</td>\n",
       "      <td>0.92</td>\n",
       "      <td>0.23</td>\n",
       "      <td>0.03</td>\n",
       "      <td>0.10</td>\n",
       "      <td>0.22</td>\n",
       "      <td>0.16</td>\n",
       "      <td>0.16</td>\n",
       "      <td>0.09</td>\n",
       "      <td>0.13</td>\n",
       "      <td>0.09</td>\n",
       "      <td>0.22</td>\n",
       "      <td>0.08</td>\n",
       "      <td>0.09</td>\n",
       "      <td>0.20</td>\n",
       "      <td>0.24</td>\n",
       "      <td>0.15</td>\n",
       "    </tr>\n",
       "    <tr>\n",
       "      <th>2</th>\n",
       "      <td>0.60</td>\n",
       "      <td>0.56</td>\n",
       "      <td>0.44</td>\n",
       "      <td>0.84</td>\n",
       "      <td>0.08</td>\n",
       "      <td>0.06</td>\n",
       "      <td>0.10</td>\n",
       "      <td>0.23</td>\n",
       "      <td>0.25</td>\n",
       "      <td>0.03</td>\n",
       "      <td>0.20</td>\n",
       "      <td>0.24</td>\n",
       "      <td>0.21</td>\n",
       "      <td>0.11</td>\n",
       "      <td>0.07</td>\n",
       "      <td>0.04</td>\n",
       "      <td>0.20</td>\n",
       "      <td>0.19</td>\n",
       "      <td>0.09</td>\n",
       "      <td>0.22</td>\n",
       "    </tr>\n",
       "    <tr>\n",
       "      <th>3</th>\n",
       "      <td>0.28</td>\n",
       "      <td>0.88</td>\n",
       "      <td>0.32</td>\n",
       "      <td>0.04</td>\n",
       "      <td>0.36</td>\n",
       "      <td>0.09</td>\n",
       "      <td>0.08</td>\n",
       "      <td>0.16</td>\n",
       "      <td>0.10</td>\n",
       "      <td>0.05</td>\n",
       "      <td>0.01</td>\n",
       "      <td>0.23</td>\n",
       "      <td>0.22</td>\n",
       "      <td>0.07</td>\n",
       "      <td>0.19</td>\n",
       "      <td>0.07</td>\n",
       "      <td>0.14</td>\n",
       "      <td>0.22</td>\n",
       "      <td>0.18</td>\n",
       "      <td>0.02</td>\n",
       "    </tr>\n",
       "    <tr>\n",
       "      <th>4</th>\n",
       "      <td>0.92</td>\n",
       "      <td>0.36</td>\n",
       "      <td>0.08</td>\n",
       "      <td>0.96</td>\n",
       "      <td>0.24</td>\n",
       "      <td>0.10</td>\n",
       "      <td>0.04</td>\n",
       "      <td>0.20</td>\n",
       "      <td>0.06</td>\n",
       "      <td>0.18</td>\n",
       "      <td>0.21</td>\n",
       "      <td>0.24</td>\n",
       "      <td>0.22</td>\n",
       "      <td>0.15</td>\n",
       "      <td>0.08</td>\n",
       "      <td>0.24</td>\n",
       "      <td>0.09</td>\n",
       "      <td>0.11</td>\n",
       "      <td>0.02</td>\n",
       "      <td>0.22</td>\n",
       "    </tr>\n",
       "    <tr>\n",
       "      <th>...</th>\n",
       "      <td>...</td>\n",
       "      <td>...</td>\n",
       "      <td>...</td>\n",
       "      <td>...</td>\n",
       "      <td>...</td>\n",
       "      <td>...</td>\n",
       "      <td>...</td>\n",
       "      <td>...</td>\n",
       "      <td>...</td>\n",
       "      <td>...</td>\n",
       "      <td>...</td>\n",
       "      <td>...</td>\n",
       "      <td>...</td>\n",
       "      <td>...</td>\n",
       "      <td>...</td>\n",
       "      <td>...</td>\n",
       "      <td>...</td>\n",
       "      <td>...</td>\n",
       "      <td>...</td>\n",
       "      <td>...</td>\n",
       "    </tr>\n",
       "    <tr>\n",
       "      <th>95</th>\n",
       "      <td>0.92</td>\n",
       "      <td>0.92</td>\n",
       "      <td>0.08</td>\n",
       "      <td>0.88</td>\n",
       "      <td>0.12</td>\n",
       "      <td>0.16</td>\n",
       "      <td>0.07</td>\n",
       "      <td>0.01</td>\n",
       "      <td>0.07</td>\n",
       "      <td>0.16</td>\n",
       "      <td>0.18</td>\n",
       "      <td>0.21</td>\n",
       "      <td>0.08</td>\n",
       "      <td>0.06</td>\n",
       "      <td>0.04</td>\n",
       "      <td>0.02</td>\n",
       "      <td>0.10</td>\n",
       "      <td>0.18</td>\n",
       "      <td>0.08</td>\n",
       "      <td>0.05</td>\n",
       "    </tr>\n",
       "    <tr>\n",
       "      <th>96</th>\n",
       "      <td>0.92</td>\n",
       "      <td>0.72</td>\n",
       "      <td>0.96</td>\n",
       "      <td>0.84</td>\n",
       "      <td>0.60</td>\n",
       "      <td>0.20</td>\n",
       "      <td>0.18</td>\n",
       "      <td>0.01</td>\n",
       "      <td>0.12</td>\n",
       "      <td>0.04</td>\n",
       "      <td>0.22</td>\n",
       "      <td>0.01</td>\n",
       "      <td>0.23</td>\n",
       "      <td>0.13</td>\n",
       "      <td>0.05</td>\n",
       "      <td>0.06</td>\n",
       "      <td>0.16</td>\n",
       "      <td>0.00</td>\n",
       "      <td>0.11</td>\n",
       "      <td>0.02</td>\n",
       "    </tr>\n",
       "    <tr>\n",
       "      <th>97</th>\n",
       "      <td>0.84</td>\n",
       "      <td>0.64</td>\n",
       "      <td>0.80</td>\n",
       "      <td>0.72</td>\n",
       "      <td>0.40</td>\n",
       "      <td>0.22</td>\n",
       "      <td>0.03</td>\n",
       "      <td>0.23</td>\n",
       "      <td>0.22</td>\n",
       "      <td>0.12</td>\n",
       "      <td>0.21</td>\n",
       "      <td>0.03</td>\n",
       "      <td>0.04</td>\n",
       "      <td>0.06</td>\n",
       "      <td>0.01</td>\n",
       "      <td>0.20</td>\n",
       "      <td>0.09</td>\n",
       "      <td>0.20</td>\n",
       "      <td>0.23</td>\n",
       "      <td>0.04</td>\n",
       "    </tr>\n",
       "    <tr>\n",
       "      <th>98</th>\n",
       "      <td>0.92</td>\n",
       "      <td>0.56</td>\n",
       "      <td>0.36</td>\n",
       "      <td>0.04</td>\n",
       "      <td>0.32</td>\n",
       "      <td>0.10</td>\n",
       "      <td>0.01</td>\n",
       "      <td>0.22</td>\n",
       "      <td>0.03</td>\n",
       "      <td>0.00</td>\n",
       "      <td>0.04</td>\n",
       "      <td>0.16</td>\n",
       "      <td>0.19</td>\n",
       "      <td>0.16</td>\n",
       "      <td>0.09</td>\n",
       "      <td>0.18</td>\n",
       "      <td>0.21</td>\n",
       "      <td>0.08</td>\n",
       "      <td>0.13</td>\n",
       "      <td>0.25</td>\n",
       "    </tr>\n",
       "    <tr>\n",
       "      <th>99</th>\n",
       "      <td>0.84</td>\n",
       "      <td>0.72</td>\n",
       "      <td>0.60</td>\n",
       "      <td>0.48</td>\n",
       "      <td>0.80</td>\n",
       "      <td>0.16</td>\n",
       "      <td>0.14</td>\n",
       "      <td>0.06</td>\n",
       "      <td>0.09</td>\n",
       "      <td>0.14</td>\n",
       "      <td>0.17</td>\n",
       "      <td>0.00</td>\n",
       "      <td>0.03</td>\n",
       "      <td>0.05</td>\n",
       "      <td>0.09</td>\n",
       "      <td>0.02</td>\n",
       "      <td>0.02</td>\n",
       "      <td>0.20</td>\n",
       "      <td>0.03</td>\n",
       "      <td>0.01</td>\n",
       "    </tr>\n",
       "  </tbody>\n",
       "</table>\n",
       "<p>100 rows × 20 columns</p>\n",
       "</div>"
      ],
      "text/plain": [
       "    lf_0  lf_1  lf_2  lf_3  lf_4  lf_5  lf_6  lf_7  lf_8  lf_9  lf_10  lf_11  \\\n",
       "0   0.00  0.00  0.00  0.00  0.00  0.00  0.00  0.00  0.00  0.00   0.00   0.00   \n",
       "1   1.00  0.88  1.00  0.28  0.92  0.23  0.03  0.10  0.22  0.16   0.16   0.09   \n",
       "2   0.60  0.56  0.44  0.84  0.08  0.06  0.10  0.23  0.25  0.03   0.20   0.24   \n",
       "3   0.28  0.88  0.32  0.04  0.36  0.09  0.08  0.16  0.10  0.05   0.01   0.23   \n",
       "4   0.92  0.36  0.08  0.96  0.24  0.10  0.04  0.20  0.06  0.18   0.21   0.24   \n",
       "..   ...   ...   ...   ...   ...   ...   ...   ...   ...   ...    ...    ...   \n",
       "95  0.92  0.92  0.08  0.88  0.12  0.16  0.07  0.01  0.07  0.16   0.18   0.21   \n",
       "96  0.92  0.72  0.96  0.84  0.60  0.20  0.18  0.01  0.12  0.04   0.22   0.01   \n",
       "97  0.84  0.64  0.80  0.72  0.40  0.22  0.03  0.23  0.22  0.12   0.21   0.03   \n",
       "98  0.92  0.56  0.36  0.04  0.32  0.10  0.01  0.22  0.03  0.00   0.04   0.16   \n",
       "99  0.84  0.72  0.60  0.48  0.80  0.16  0.14  0.06  0.09  0.14   0.17   0.00   \n",
       "\n",
       "    lf_12  lf_13  lf_14  lf_15  lf_16  lf_17  lf_18  lf_19  \n",
       "0    0.00   0.00   0.00   0.00   0.00   0.00   0.00   0.00  \n",
       "1    0.13   0.09   0.22   0.08   0.09   0.20   0.24   0.15  \n",
       "2    0.21   0.11   0.07   0.04   0.20   0.19   0.09   0.22  \n",
       "3    0.22   0.07   0.19   0.07   0.14   0.22   0.18   0.02  \n",
       "4    0.22   0.15   0.08   0.24   0.09   0.11   0.02   0.22  \n",
       "..    ...    ...    ...    ...    ...    ...    ...    ...  \n",
       "95   0.08   0.06   0.04   0.02   0.10   0.18   0.08   0.05  \n",
       "96   0.23   0.13   0.05   0.06   0.16   0.00   0.11   0.02  \n",
       "97   0.04   0.06   0.01   0.20   0.09   0.20   0.23   0.04  \n",
       "98   0.19   0.16   0.09   0.18   0.21   0.08   0.13   0.25  \n",
       "99   0.03   0.05   0.09   0.02   0.02   0.20   0.03   0.01  \n",
       "\n",
       "[100 rows x 20 columns]"
      ]
     },
     "execution_count": 6,
     "metadata": {},
     "output_type": "execute_result"
    }
   ],
   "source": [
    "get_L()"
   ]
  },
  {
   "cell_type": "code",
   "execution_count": 7,
   "id": "d00be85f-d2cc-4e48-ab81-9132b039cecf",
   "metadata": {
    "tags": []
   },
   "outputs": [],
   "source": [
    "L = get_L()"
   ]
  },
  {
   "cell_type": "code",
   "execution_count": 8,
   "id": "37e15dbf-a85d-4568-a9c5-72e05e39ae0e",
   "metadata": {},
   "outputs": [],
   "source": [
    "polarities = np.array([0] * 10 + [1] * 5 + [2] * 5)"
   ]
  },
  {
   "cell_type": "code",
   "execution_count": null,
   "id": "e1e491c6-d322-4959-9c7f-aea135887449",
   "metadata": {},
   "outputs": [],
   "source": []
  },
  {
   "cell_type": "code",
   "execution_count": 14,
   "id": "75781756-ca65-48e5-94e4-5edda85f5500",
   "metadata": {
    "tags": []
   },
   "outputs": [],
   "source": [
    "from flippers.models import Voter, BalancedVoter"
   ]
  },
  {
   "cell_type": "code",
   "execution_count": 16,
   "id": "5deac0da-1951-4116-99c1-765a71fba9cc",
   "metadata": {
    "tags": []
   },
   "outputs": [
    {
     "name": "stdout",
     "output_type": "stream",
     "text": [
      "No cardinality given, assuming it is equal to 3\n"
     ]
    },
    {
     "data": {
      "text/plain": [
       "array([1, 1, 1, 0, 1, 0, 0, 0, 0, 0, 0, 2, 0, 0, 0, 1, 0, 2, 1, 0, 1, 2,\n",
       "       0, 0, 0, 0, 0, 0, 1, 1, 0, 0, 2, 0, 0, 0, 1, 0, 2, 0, 2, 0, 0, 0,\n",
       "       0, 0, 1, 0, 0, 0, 0, 0, 1, 0, 2, 0, 2, 2, 1, 1, 0, 0, 0, 0, 0, 0,\n",
       "       1, 0, 0, 2, 1, 0, 0, 1, 0, 0, 0, 0, 0, 2, 0, 1, 0, 0, 1, 0, 0, 0,\n",
       "       1, 1, 0, 0, 0, 1, 0, 0, 0, 0, 0, 0])"
      ]
     },
     "execution_count": 16,
     "metadata": {},
     "output_type": "execute_result"
    }
   ],
   "source": [
    "Voter(polarities).predict(L, strategy=\"probability\")"
   ]
  },
  {
   "cell_type": "code",
   "execution_count": null,
   "id": "28b9b124-e4f0-4fc3-be34-b41a47949ca5",
   "metadata": {},
   "outputs": [],
   "source": []
  },
  {
   "cell_type": "code",
   "execution_count": 24,
   "id": "e6a89661-6735-49d6-9bef-d9e51ee40908",
   "metadata": {
    "tags": []
   },
   "outputs": [
    {
     "name": "stdout",
     "output_type": "stream",
     "text": [
      "No cardinality given, assuming it is equal to 3\n"
     ]
    }
   ],
   "source": [
    "balanced_voter = BalancedVoter(polarities)\n",
    "balanced_voter.fit(L, balances=[10, 50, 5])"
   ]
  },
  {
   "cell_type": "code",
   "execution_count": null,
   "id": "dbfc83fa-c48c-4de6-903c-e7906f3e13c8",
   "metadata": {},
   "outputs": [],
   "source": []
  },
  {
   "cell_type": "code",
   "execution_count": 25,
   "id": "aad31cdb-7181-4888-bc12-04582315cc11",
   "metadata": {
    "tags": []
   },
   "outputs": [
    {
     "data": {
      "text/plain": [
       "array([0.        , 0.95035754, 1.17325796, 0.87527928, 0.56759628,\n",
       "       0.9532027 , 1.14754863, 1.18969176, 0.86821635, 1.29307327,\n",
       "       1.01637966, 1.03827106, 1.22557963, 0.97328875, 0.94291247,\n",
       "       0.93146345, 1.00594254, 0.89331372, 1.1113593 , 1.27122372,\n",
       "       0.89584283, 1.16536415, 0.98650672, 0.95000369, 0.78648054,\n",
       "       1.1561032 , 0.98582865, 0.59794436, 0.90586903, 0.95468834,\n",
       "       0.88483249, 1.17738225, 0.82785486, 1.14584719, 1.28656081,\n",
       "       0.89209928, 1.01655474, 1.23924585, 1.17850915, 0.75078375,\n",
       "       1.09441338, 1.02205117, 0.76084549, 1.03762721, 1.40850851,\n",
       "       1.173429  , 1.02320948, 1.01774314, 1.03000384, 1.0153121 ,\n",
       "       1.19244666, 1.17353122, 1.14206678, 0.87569331, 1.3067203 ,\n",
       "       1.12080728, 0.98568958, 1.17026648, 1.01027531, 1.25553879,\n",
       "       0.83856967, 0.6848205 , 0.82057077, 0.98228811, 0.78658407,\n",
       "       0.67756566, 1.27929402, 1.29854242, 1.16202061, 1.16711618,\n",
       "       1.02197417, 1.30934016, 0.46923747, 0.9333806 , 0.77434067,\n",
       "       1.10535669, 0.9930913 , 0.7704822 , 0.79672188, 0.75057669,\n",
       "       0.71368879, 0.78202553, 0.97432077, 1.07845699, 1.20126114,\n",
       "       0.84374553, 1.0131578 , 1.03651358, 1.05705851, 1.21957288,\n",
       "       1.01289732, 0.74476102, 1.46003258, 1.04724069, 0.79385951,\n",
       "       0.95647327, 1.09763252, 1.18220334, 0.79686284, 1.33792259])"
      ]
     },
     "execution_count": 25,
     "metadata": {},
     "output_type": "execute_result"
    }
   ],
   "source": [
    "balanced_voter.predict_proba(L).sum(axis=1)"
   ]
  },
  {
   "cell_type": "code",
   "execution_count": 29,
   "id": "36053e62-d58c-46b0-9e75-2894d20058ca",
   "metadata": {
    "tags": []
   },
   "outputs": [
    {
     "data": {
      "text/plain": [
       " 1    71\n",
       " 0    16\n",
       " 2    12\n",
       "-1     1\n",
       "dtype: int64"
      ]
     },
     "execution_count": 29,
     "metadata": {},
     "output_type": "execute_result"
    }
   ],
   "source": [
    "pd.DataFrame(balanced_voter.predict(L, strategy=\"probability\")).value_counts()"
   ]
  },
  {
   "cell_type": "code",
   "execution_count": 32,
   "id": "b83bd932-31c3-4026-9477-23a3822c658e",
   "metadata": {
    "tags": []
   },
   "outputs": [
    {
     "data": {
      "text/plain": [
       "(20,)"
      ]
     },
     "execution_count": 32,
     "metadata": {},
     "output_type": "execute_result"
    }
   ],
   "source": [
    "polarities.shape"
   ]
  },
  {
   "cell_type": "code",
   "execution_count": 30,
   "id": "8ad4e8e2-92fe-4378-9ab7-da5ac5064368",
   "metadata": {
    "tags": []
   },
   "outputs": [
    {
     "data": {
      "text/plain": [
       " 1    99\n",
       "-1     1\n",
       "dtype: int64"
      ]
     },
     "execution_count": 30,
     "metadata": {},
     "output_type": "execute_result"
    }
   ],
   "source": [
    "pd.DataFrame(balanced_voter.predict(get_L())).value_counts()"
   ]
  },
  {
   "cell_type": "code",
   "execution_count": 236,
   "id": "ed582da7-47de-41e9-a095-939fb91117ce",
   "metadata": {
    "tags": []
   },
   "outputs": [
    {
     "name": "stdout",
     "output_type": "stream",
     "text": [
      "[2 1 1]\n"
     ]
    }
   ],
   "source": [
    "# Example weight matrix\n",
    "A = np.array([[0.1, 0, 0.9], [0.4, 0.4, 0.2], [0.2, 0.5, 0.3]])\n",
    "\n",
    "# Randomly sample indices from each row of A\n",
    "Y = np.array([np.random.choice(range(3), p=row) for row in A])\n",
    "\n",
    "print(Y)"
   ]
  },
  {
   "cell_type": "code",
   "execution_count": 239,
   "id": "c1b351c1-bd64-47e3-b7d7-becd92915d4a",
   "metadata": {
    "tags": []
   },
   "outputs": [
    {
     "data": {
      "text/plain": [
       "array([2, 0, 1])"
      ]
     },
     "execution_count": 239,
     "metadata": {},
     "output_type": "execute_result"
    }
   ],
   "source": [
    "np.apply_along_axis(lambda x: np.random.choice(3, p=x), axis=1, arr=A)"
   ]
  },
  {
   "cell_type": "code",
   "execution_count": 240,
   "id": "e1605574-6294-4f3b-b1d2-5be87f18ec05",
   "metadata": {
    "tags": []
   },
   "outputs": [
    {
     "data": {
      "text/plain": [
       "array([[0.1, 0. , 0.9],\n",
       "       [0.4, 0.4, 0.2],\n",
       "       [0.2, 0.5, 0.3]])"
      ]
     },
     "execution_count": 240,
     "metadata": {},
     "output_type": "execute_result"
    }
   ],
   "source": [
    "A"
   ]
  },
  {
   "cell_type": "code",
   "execution_count": 244,
   "id": "514ff3dd-0828-4f26-b341-98050ad54ef7",
   "metadata": {
    "tags": []
   },
   "outputs": [],
   "source": [
    "B = A.copy()"
   ]
  },
  {
   "cell_type": "code",
   "execution_count": 247,
   "id": "2ce61c3e-c020-4c2b-80da-26abd16339e2",
   "metadata": {
    "tags": []
   },
   "outputs": [],
   "source": [
    "B[0] = 1"
   ]
  },
  {
   "cell_type": "code",
   "execution_count": 248,
   "id": "b9f41b93-e946-4593-97c5-0348c595c652",
   "metadata": {
    "tags": []
   },
   "outputs": [
    {
     "data": {
      "text/plain": [
       "array([[0. , 0. , 0. ],\n",
       "       [0.4, 0.4, 0.2],\n",
       "       [0.2, 0.5, 0.3]])"
      ]
     },
     "execution_count": 248,
     "metadata": {},
     "output_type": "execute_result"
    }
   ],
   "source": [
    "A"
   ]
  },
  {
   "cell_type": "code",
   "execution_count": 249,
   "id": "a89f710f-9aa2-4b89-80e9-e4e1ae185d43",
   "metadata": {
    "tags": []
   },
   "outputs": [
    {
     "data": {
      "text/plain": [
       "array([[1. , 1. , 1. ],\n",
       "       [0.4, 0.4, 0.2],\n",
       "       [0.2, 0.5, 0.3]])"
      ]
     },
     "execution_count": 249,
     "metadata": {},
     "output_type": "execute_result"
    }
   ],
   "source": [
    "B"
   ]
  },
  {
   "cell_type": "code",
   "execution_count": null,
   "id": "53ced681-391e-4fc3-ad14-33c3a2b5cca6",
   "metadata": {},
   "outputs": [],
   "source": []
  }
 ],
 "metadata": {
  "kernelspec": {
   "display_name": "flippers",
   "language": "python",
   "name": "flippers"
  },
  "language_info": {
   "codemirror_mode": {
    "name": "ipython",
    "version": 3
   },
   "file_extension": ".py",
   "mimetype": "text/x-python",
   "name": "python",
   "nbconvert_exporter": "python",
   "pygments_lexer": "ipython3",
   "version": "3.10.10"
  }
 },
 "nbformat": 4,
 "nbformat_minor": 5
}
