{
 "cells": [
  {
   "cell_type": "markdown",
   "metadata": {},
   "source": [
    "# Example Usage: `SpectrogramPlayer`"
   ]
  },
  {
   "cell_type": "code",
   "execution_count": 1,
   "metadata": {},
   "outputs": [],
   "source": [
    "from speechwidgets import SpectrogramPlayer"
   ]
  },
  {
   "cell_type": "code",
   "execution_count": 2,
   "metadata": {},
   "outputs": [],
   "source": [
    "with open('19-198-0001.word_intervals.txt', 'r') as f:\n",
    "    lines = f.readlines()\n",
    "    annotations = [line.strip().split(' ') for line in lines]"
   ]
  },
  {
   "cell_type": "code",
   "execution_count": 3,
   "metadata": {},
   "outputs": [],
   "source": [
    "with open('19-198-0001.phone_intervals.txt', 'r') as f:\n",
    "    lines = f.readlines()\n",
    "    annotations2 = [line.strip().split(' ') for line in lines]"
   ]
  },
  {
   "cell_type": "markdown",
   "metadata": {},
   "source": [
    "Basic usage:"
   ]
  },
  {
   "cell_type": "code",
   "execution_count": 4,
   "metadata": {},
   "outputs": [
    {
     "data": {
      "application/vnd.jupyter.widget-view+json": {
       "model_id": "ad295f13a24a4022a50a636820722d35",
       "version_major": 2,
       "version_minor": 0
      },
      "text/plain": [
       "SpectrogramPlayer(nav_height=60, spec_height=200, src='data:audio/wav;base64,UklGRsS+BQBXQVZFZm10IBAAAAABAAEAg…"
      ]
     },
     "execution_count": 4,
     "metadata": {},
     "output_type": "execute_result"
    }
   ],
   "source": [
    "SpectrogramPlayer(\n",
    "    wav_file_path='./19-198-0001.wav',\n",
    "    width=800,\n",
    "    spec_height=200,\n",
    "    navigator=True,\n",
    "    nav_height=60,\n",
    ")"
   ]
  },
  {
   "cell_type": "markdown",
   "metadata": {},
   "source": [
    "Advanced usage:"
   ]
  },
  {
   "cell_type": "code",
   "execution_count": 5,
   "metadata": {},
   "outputs": [
    {
     "data": {
      "application/vnd.jupyter.widget-view+json": {
       "model_id": "e695839c234c4203b4c04648f3b3e624",
       "version_major": 2,
       "version_minor": 0
      },
      "text/plain": [
       "SpectrogramPlayer(colormap='greys', navigator=False, settings=False, spec_height=200, src='data:audio/wav;base…"
      ]
     },
     "execution_count": 5,
     "metadata": {},
     "output_type": "execute_result"
    }
   ],
   "source": [
    "SpectrogramPlayer(\n",
    "    wav_file_path='./19-198-0001.wav',\n",
    "    width=800,\n",
    "    spec_height=200,\n",
    "    navigator=False,\n",
    "    settings=False,\n",
    "    colormap=\"greys\",\n",
    "    transparent=False, # draws\n",
    "    dark=False, # to supp\n",
    "    \n",
    "    # mel spec parameters:\n",
    "    n_fft=2048,\n",
    "    win_length=400,\n",
    "    hop_length=160,\n",
    "    f_min=50, \n",
    "    n_mels=80,\n",
    "    power=1.0,\n",
    "    \n",
    "    # amplitude to db parameter:\n",
    "    top_db=80 \n",
    ")"
   ]
  },
  {
   "cell_type": "code",
   "execution_count": 6,
   "metadata": {},
   "outputs": [
    {
     "data": {
      "application/vnd.jupyter.widget-view+json": {
       "model_id": "c166d984771947ea9138349a70dfb84c",
       "version_major": 2,
       "version_minor": 0
      },
      "text/plain": [
       "SpectrogramPlayer(annotations=array([['0', '0.54', '<SIL>'],\n",
       "       ['0.54', '0.84', 'this'],\n",
       "       ['0.84', …"
      ]
     },
     "execution_count": 6,
     "metadata": {},
     "output_type": "execute_result"
    }
   ],
   "source": [
    "SpectrogramPlayer(\n",
    "    wav_file_path='./19-198-0001.wav',\n",
    "    width=800,\n",
    "    spec_height=200,\n",
    "    navigator=True,\n",
    "    nav_height=60,\n",
    "    annotations=annotations,\n",
    "    annotations2=annotations2\n",
    ")"
   ]
  },
  {
   "cell_type": "code",
   "execution_count": null,
   "metadata": {},
   "outputs": [],
   "source": []
  }
 ],
 "metadata": {
  "kernelspec": {
   "display_name": "Python 3 (ipykernel)",
   "language": "python",
   "name": "python3"
  },
  "language_info": {
   "codemirror_mode": {
    "name": "ipython",
    "version": 3
   },
   "file_extension": ".py",
   "mimetype": "text/x-python",
   "name": "python",
   "nbconvert_exporter": "python",
   "pygments_lexer": "ipython3",
   "version": "3.10.10"
  }
 },
 "nbformat": 4,
 "nbformat_minor": 4
}
