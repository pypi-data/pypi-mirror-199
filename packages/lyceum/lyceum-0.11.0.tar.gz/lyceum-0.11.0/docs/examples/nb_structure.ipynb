{
 "cells": [
  {
   "cell_type": "markdown",
   "id": "71436cb4-71f9-4d14-b7e4-82c6b5739aaf",
   "metadata": {},
   "source": [
    "# Utilisation du module `structure`\n",
    "\n",
    "Ce modules contient les structures de données suivantes:\n",
    "\n",
    "- `Pile`\n",
    "- `File`"
   ]
  },
  {
   "cell_type": "code",
   "execution_count": 1,
   "id": "7cdca45c-a6a5-4257-9d47-9e9303f0d517",
   "metadata": {},
   "outputs": [
    {
     "ename": "ModuleNotFoundError",
     "evalue": "No module named 'lyceum'",
     "output_type": "error",
     "traceback": [
      "\u001b[0;31m---------------------------------------------------------------------------\u001b[0m",
      "\u001b[0;31mModuleNotFoundError\u001b[0m                       Traceback (most recent call last)",
      "Input \u001b[0;32mIn [1]\u001b[0m, in \u001b[0;36m<module>\u001b[0;34m\u001b[0m\n\u001b[0;32m----> 1\u001b[0m \u001b[38;5;28;01mfrom\u001b[39;00m \u001b[38;5;21;01mlyceum\u001b[39;00m\u001b[38;5;21;01m.\u001b[39;00m\u001b[38;5;21;01mstructure\u001b[39;00m \u001b[38;5;28;01mimport\u001b[39;00m File, Pile\n",
      "\u001b[0;31mModuleNotFoundError\u001b[0m: No module named 'lyceum'"
     ]
    }
   ],
   "source": [
    "from lyceum.structure import File, Pile"
   ]
  },
  {
   "cell_type": "code",
   "execution_count": null,
   "id": "423ff059-4a2f-462c-a834-c065bb8482f0",
   "metadata": {},
   "outputs": [],
   "source": []
  }
 ],
 "metadata": {
  "kernelspec": {
   "display_name": "Python 3 (ipykernel)",
   "language": "python",
   "name": "python3"
  },
  "language_info": {
   "codemirror_mode": {
    "name": "ipython",
    "version": 3
   },
   "file_extension": ".py",
   "mimetype": "text/x-python",
   "name": "python",
   "nbconvert_exporter": "python",
   "pygments_lexer": "ipython3",
   "version": "3.10.2"
  }
 },
 "nbformat": 4,
 "nbformat_minor": 5
}
