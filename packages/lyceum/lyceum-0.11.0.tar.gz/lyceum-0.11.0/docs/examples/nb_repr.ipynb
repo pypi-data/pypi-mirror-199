{
 "cells": [
  {
   "cell_type": "markdown",
   "id": "71436cb4-71f9-4d14-b7e4-82c6b5739aaf",
   "metadata": {},
   "source": [
    "# Utilisation du module `repr`\n"
   ]
  },
  {
   "cell_type": "code",
   "execution_count": 2,
   "id": "7cdca45c-a6a5-4257-9d47-9e9303f0d517",
   "metadata": {},
   "outputs": [],
   "source": [
    "from lyceum.repr import bin2float"
   ]
  },
  {
   "cell_type": "code",
   "execution_count": 3,
   "id": "423ff059-4a2f-462c-a834-c065bb8482f0",
   "metadata": {},
   "outputs": [
    {
     "data": {
      "text/plain": [
       "0.046875"
      ]
     },
     "execution_count": 3,
     "metadata": {},
     "output_type": "execute_result"
    }
   ],
   "source": [
    "# simple précision\n",
    "bin2float(\"00111101 01000000 00000000 00000000\")"
   ]
  },
  {
   "cell_type": "code",
   "execution_count": 14,
   "id": "3ff6ac91-0d70-4c82-a4f1-45b575e6a735",
   "metadata": {},
   "outputs": [
    {
     "data": {
      "text/plain": [
       "-2.0625"
      ]
     },
     "execution_count": 14,
     "metadata": {},
     "output_type": "execute_result"
    }
   ],
   "source": [
    "# demi précision\n",
    "bin2float(\"11000000 00100000\")"
   ]
  },
  {
   "cell_type": "code",
   "execution_count": 8,
   "id": "088fb302-393d-4e7e-8b36-5da5a13933d7",
   "metadata": {},
   "outputs": [
    {
     "data": {
      "text/plain": [
       "0.017578125"
      ]
     },
     "execution_count": 8,
     "metadata": {},
     "output_type": "execute_result"
    }
   ],
   "source": [
    "1.125 * 2**-6"
   ]
  },
  {
   "cell_type": "code",
   "execution_count": 13,
   "id": "768c931e",
   "metadata": {},
   "outputs": [
    {
     "data": {
      "text/plain": [
       "'¡¢£'"
      ]
     },
     "execution_count": 13,
     "metadata": {},
     "output_type": "execute_result"
    }
   ],
   "source": [
    "from lyceum.repr import hex2txt\n",
    "\n",
    "hex2txt(\"A1 A2 A3\", enc=\"iso8859-1\")"
   ]
  }
 ],
 "metadata": {
  "kernelspec": {
   "display_name": "Python 3",
   "language": "python",
   "name": "python3"
  },
  "language_info": {
   "codemirror_mode": {
    "name": "ipython",
    "version": 3
   },
   "file_extension": ".py",
   "mimetype": "text/x-python",
   "name": "python",
   "nbconvert_exporter": "python",
   "pygments_lexer": "ipython3",
   "version": "3.10.10"
  },
  "vscode": {
   "interpreter": {
    "hash": "e7370f93d1d0cde622a1f8e1c04877d8463912d04d973331ad4851f04de6915a"
   }
  }
 },
 "nbformat": 4,
 "nbformat_minor": 5
}
